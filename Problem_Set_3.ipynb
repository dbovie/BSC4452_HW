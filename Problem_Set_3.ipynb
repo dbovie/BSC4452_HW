{
 "cells": [
  {
   "cell_type": "code",
   "execution_count": 1,
   "metadata": {},
   "outputs": [],
   "source": [
    "# Danielle Bovie\n",
    "# BSC4452\n",
    "# Problem Set 3\n",
    "\n",
    "import pandas as pd"
   ]
  },
  {
   "cell_type": "markdown",
   "metadata": {},
   "source": [
    "Problem 1"
   ]
  },
  {
   "cell_type": "code",
   "execution_count": 2,
   "metadata": {},
   "outputs": [
    {
     "name": "stdout",
     "output_type": "stream",
     "text": [
      "The max water level was 6.647 on 2018-10-10 18:06\n"
     ]
    }
   ],
   "source": [
    "my_file = open(\"/ufrc/bsc4452/share/Class_Files/data/CO-OPS__8729108__wl.csv\", \"r\") # importing the file my way\n",
    "data = my_file.readlines()\n",
    "\n",
    "date = []  # will be a list of date/times\n",
    "level = []  # will be a list of water levels\n",
    "for i in range(423):  # I actually never use pd and copy and paste this for loop all the time\n",
    "    line = data[i+1]\n",
    "    elements = line.split(\",\")\n",
    "    date.append(str(elements[0]))\n",
    "    level.append(float(elements[1]))\n",
    "for i in range(424, 725):  # There was a date without a water level (Why??) \n",
    "    line = data[i+1]       # The second for loop alows that element to be skipped\n",
    "    elements = line.split(\",\")\n",
    "    date.append(str(elements[0]))\n",
    "    level.append(float(elements[1]))\n",
    "max_level = max(level)  # takes the max\n",
    "position = level.index(max_level) # finds the position of the max value\n",
    "max_date = date[position] # uses that position to find the date/time\n",
    "print(\"The max water level was\", max_level, \"on\", max_date)"
   ]
  },
  {
   "cell_type": "markdown",
   "metadata": {},
   "source": [
    "Problem 2"
   ]
  },
  {
   "cell_type": "code",
   "execution_count": 3,
   "metadata": {},
   "outputs": [],
   "source": [
    "df = pd.read_csv(\"/ufrc/bsc4452/share/Class_Files/data/CO-OPS__8729108__wl.csv\")  # importing the file with pd"
   ]
  },
  {
   "cell_type": "code",
   "execution_count": 4,
   "metadata": {},
   "outputs": [
    {
     "data": {
      "text/html": [
       "<div>\n",
       "<style scoped>\n",
       "    .dataframe tbody tr th:only-of-type {\n",
       "        vertical-align: middle;\n",
       "    }\n",
       "\n",
       "    .dataframe tbody tr th {\n",
       "        vertical-align: top;\n",
       "    }\n",
       "\n",
       "    .dataframe thead th {\n",
       "        text-align: right;\n",
       "    }\n",
       "</style>\n",
       "<table border=\"1\" class=\"dataframe\">\n",
       "  <thead>\n",
       "    <tr style=\"text-align: right;\">\n",
       "      <th></th>\n",
       "      <th>Date Time</th>\n",
       "      <th>Water Level</th>\n",
       "      <th>Sigma</th>\n",
       "      <th>O</th>\n",
       "      <th>F</th>\n",
       "      <th>R</th>\n",
       "      <th>L</th>\n",
       "      <th>Quality</th>\n",
       "    </tr>\n",
       "  </thead>\n",
       "  <tbody>\n",
       "    <tr>\n",
       "      <th>0</th>\n",
       "      <td>2018-10-09 00:00</td>\n",
       "      <td>2.421</td>\n",
       "      <td>0.036</td>\n",
       "      <td>1</td>\n",
       "      <td>0</td>\n",
       "      <td>0</td>\n",
       "      <td>0</td>\n",
       "      <td>p</td>\n",
       "    </tr>\n",
       "    <tr>\n",
       "      <th>1</th>\n",
       "      <td>2018-10-09 00:06</td>\n",
       "      <td>2.454</td>\n",
       "      <td>0.036</td>\n",
       "      <td>1</td>\n",
       "      <td>0</td>\n",
       "      <td>0</td>\n",
       "      <td>0</td>\n",
       "      <td>p</td>\n",
       "    </tr>\n",
       "    <tr>\n",
       "      <th>2</th>\n",
       "      <td>2018-10-09 00:12</td>\n",
       "      <td>2.461</td>\n",
       "      <td>0.036</td>\n",
       "      <td>1</td>\n",
       "      <td>0</td>\n",
       "      <td>0</td>\n",
       "      <td>0</td>\n",
       "      <td>p</td>\n",
       "    </tr>\n",
       "    <tr>\n",
       "      <th>3</th>\n",
       "      <td>2018-10-09 00:18</td>\n",
       "      <td>2.444</td>\n",
       "      <td>0.036</td>\n",
       "      <td>1</td>\n",
       "      <td>0</td>\n",
       "      <td>0</td>\n",
       "      <td>0</td>\n",
       "      <td>p</td>\n",
       "    </tr>\n",
       "    <tr>\n",
       "      <th>4</th>\n",
       "      <td>2018-10-09 00:24</td>\n",
       "      <td>2.431</td>\n",
       "      <td>0.036</td>\n",
       "      <td>0</td>\n",
       "      <td>0</td>\n",
       "      <td>0</td>\n",
       "      <td>0</td>\n",
       "      <td>p</td>\n",
       "    </tr>\n",
       "    <tr>\n",
       "      <th>...</th>\n",
       "      <td>...</td>\n",
       "      <td>...</td>\n",
       "      <td>...</td>\n",
       "      <td>...</td>\n",
       "      <td>...</td>\n",
       "      <td>...</td>\n",
       "      <td>...</td>\n",
       "      <td>...</td>\n",
       "    </tr>\n",
       "    <tr>\n",
       "      <th>720</th>\n",
       "      <td>2018-10-12 00:00</td>\n",
       "      <td>2.192</td>\n",
       "      <td>0.026</td>\n",
       "      <td>1</td>\n",
       "      <td>0</td>\n",
       "      <td>0</td>\n",
       "      <td>0</td>\n",
       "      <td>p</td>\n",
       "    </tr>\n",
       "    <tr>\n",
       "      <th>721</th>\n",
       "      <td>2018-10-12 00:06</td>\n",
       "      <td>2.195</td>\n",
       "      <td>0.023</td>\n",
       "      <td>1</td>\n",
       "      <td>0</td>\n",
       "      <td>0</td>\n",
       "      <td>0</td>\n",
       "      <td>p</td>\n",
       "    </tr>\n",
       "    <tr>\n",
       "      <th>722</th>\n",
       "      <td>2018-10-12 00:12</td>\n",
       "      <td>2.201</td>\n",
       "      <td>0.023</td>\n",
       "      <td>0</td>\n",
       "      <td>0</td>\n",
       "      <td>0</td>\n",
       "      <td>0</td>\n",
       "      <td>p</td>\n",
       "    </tr>\n",
       "    <tr>\n",
       "      <th>723</th>\n",
       "      <td>2018-10-12 00:18</td>\n",
       "      <td>2.198</td>\n",
       "      <td>0.023</td>\n",
       "      <td>1</td>\n",
       "      <td>0</td>\n",
       "      <td>0</td>\n",
       "      <td>0</td>\n",
       "      <td>p</td>\n",
       "    </tr>\n",
       "    <tr>\n",
       "      <th>724</th>\n",
       "      <td>2018-10-12 00:24</td>\n",
       "      <td>2.218</td>\n",
       "      <td>0.023</td>\n",
       "      <td>1</td>\n",
       "      <td>0</td>\n",
       "      <td>0</td>\n",
       "      <td>0</td>\n",
       "      <td>p</td>\n",
       "    </tr>\n",
       "  </tbody>\n",
       "</table>\n",
       "<p>725 rows × 8 columns</p>\n",
       "</div>"
      ],
      "text/plain": [
       "            Date Time   Water Level   Sigma   O   F   R   L  Quality \n",
       "0    2018-10-09 00:00         2.421   0.036   1   0   0   0         p\n",
       "1    2018-10-09 00:06         2.454   0.036   1   0   0   0         p\n",
       "2    2018-10-09 00:12         2.461   0.036   1   0   0   0         p\n",
       "3    2018-10-09 00:18         2.444   0.036   1   0   0   0         p\n",
       "4    2018-10-09 00:24         2.431   0.036   0   0   0   0         p\n",
       "..                ...           ...     ...  ..  ..  ..  ..       ...\n",
       "720  2018-10-12 00:00         2.192   0.026   1   0   0   0         p\n",
       "721  2018-10-12 00:06         2.195   0.023   1   0   0   0         p\n",
       "722  2018-10-12 00:12         2.201   0.023   0   0   0   0         p\n",
       "723  2018-10-12 00:18         2.198   0.023   1   0   0   0         p\n",
       "724  2018-10-12 00:24         2.218   0.023   1   0   0   0         p\n",
       "\n",
       "[725 rows x 8 columns]"
      ]
     },
     "execution_count": 4,
     "metadata": {},
     "output_type": "execute_result"
    }
   ],
   "source": [
    "df  # How pd displays the data"
   ]
  },
  {
   "cell_type": "code",
   "execution_count": 5,
   "metadata": {},
   "outputs": [
    {
     "name": "stdout",
     "output_type": "stream",
     "text": [
      "The max water level was 6.647 on 2018-10-10 18:06\n"
     ]
    }
   ],
   "source": [
    "index = df.index\n",
    "columns = df.columns\n",
    "values = df.values\n",
    "date_1 = df['Date Time']  # list of dates/times\n",
    "level_1 = df[' Water Level']  # list of water levels\n",
    "# I do acknowledge that pd makes this easier if you were writing the for loop from scratch\n",
    "max_level_1 = max(level_1)  # takes the max\n",
    "position_1 = level.index(max_level_1)  # finds the position of the max value\n",
    "max_date_1 = date[position_1] # uses that position to find the date/time\n",
    "print(\"The max water level was\", max_level_1, \"on\", max_date_1)"
   ]
  },
  {
   "cell_type": "markdown",
   "metadata": {},
   "source": [
    "Problem 3"
   ]
  },
  {
   "cell_type": "code",
   "execution_count": 6,
   "metadata": {},
   "outputs": [],
   "source": [
    "delta_level = [] # will be list of water level changes\n",
    "for i in range(723):\n",
    "    change = level[i+1]-level[i]\n",
    "    delta_level.append(change)"
   ]
  },
  {
   "cell_type": "code",
   "execution_count": 7,
   "metadata": {},
   "outputs": [],
   "source": [
    "max_delta = max(delta_level) # finds max change in water level\n",
    "max_delta_t1 = date[delta_level.index(max_delta)]  # beginning of time range\n",
    "max_delta_t2 = date[delta_level.index(max_delta)+1] # end of time range"
   ]
  },
  {
   "cell_type": "code",
   "execution_count": 8,
   "metadata": {},
   "outputs": [
    {
     "name": "stdout",
     "output_type": "stream",
     "text": [
      "The max change in water level was between 2018-10-10 17:36 and 2018-10-10 17:42 with a change of 0.6400000000000006\n"
     ]
    }
   ],
   "source": [
    "print(\"The max change in water level was between\", max_delta_t1, \"and\", max_delta_t2, \"with a change of\", max_delta)"
   ]
  },
  {
   "cell_type": "code",
   "execution_count": 9,
   "metadata": {},
   "outputs": [],
   "source": [
    "# I could have rounded that number to be prettier, but we will stick to accuracy "
   ]
  },
  {
   "cell_type": "code",
   "execution_count": null,
   "metadata": {},
   "outputs": [],
   "source": []
  }
 ],
 "metadata": {
  "kernelspec": {
   "display_name": "Python 3.7 (full)",
   "language": "python",
   "name": "python3-3.7-ufrc"
  },
  "language_info": {
   "codemirror_mode": {
    "name": "ipython",
    "version": 3
   },
   "file_extension": ".py",
   "mimetype": "text/x-python",
   "name": "python",
   "nbconvert_exporter": "python",
   "pygments_lexer": "ipython3",
   "version": "3.7.6"
  }
 },
 "nbformat": 4,
 "nbformat_minor": 4
}

{
 "cells": [
  {
   "cell_type": "code",
   "execution_count": 14,
   "metadata": {},
   "outputs": [],
   "source": [
    "import pandas as pd\n",
    "import sqlite3"
   ]
  },
  {
   "cell_type": "code",
   "execution_count": 15,
   "metadata": {},
   "outputs": [],
   "source": [
    "df = pd.read_csv('MSFT.csv')  # importing the file with pd"
   ]
  },
  {
   "cell_type": "code",
   "execution_count": 16,
   "metadata": {},
   "outputs": [
    {
     "data": {
      "text/html": [
       "<div>\n",
       "<style scoped>\n",
       "    .dataframe tbody tr th:only-of-type {\n",
       "        vertical-align: middle;\n",
       "    }\n",
       "\n",
       "    .dataframe tbody tr th {\n",
       "        vertical-align: top;\n",
       "    }\n",
       "\n",
       "    .dataframe thead th {\n",
       "        text-align: right;\n",
       "    }\n",
       "</style>\n",
       "<table border=\"1\" class=\"dataframe\">\n",
       "  <thead>\n",
       "    <tr style=\"text-align: right;\">\n",
       "      <th></th>\n",
       "      <th>Date</th>\n",
       "      <th>Open</th>\n",
       "      <th>High</th>\n",
       "      <th>Low</th>\n",
       "      <th>Close</th>\n",
       "      <th>Adj Close</th>\n",
       "      <th>Volume</th>\n",
       "    </tr>\n",
       "  </thead>\n",
       "  <tbody>\n",
       "    <tr>\n",
       "      <th>0</th>\n",
       "      <td>2000-01-03</td>\n",
       "      <td>58.687500</td>\n",
       "      <td>59.312500</td>\n",
       "      <td>56.000000</td>\n",
       "      <td>58.281250</td>\n",
       "      <td>42.641369</td>\n",
       "      <td>53228400</td>\n",
       "    </tr>\n",
       "    <tr>\n",
       "      <th>1</th>\n",
       "      <td>2000-01-04</td>\n",
       "      <td>56.781250</td>\n",
       "      <td>58.562500</td>\n",
       "      <td>56.125000</td>\n",
       "      <td>56.312500</td>\n",
       "      <td>41.200928</td>\n",
       "      <td>54119000</td>\n",
       "    </tr>\n",
       "    <tr>\n",
       "      <th>2</th>\n",
       "      <td>2000-01-05</td>\n",
       "      <td>55.562500</td>\n",
       "      <td>58.187500</td>\n",
       "      <td>54.687500</td>\n",
       "      <td>56.906250</td>\n",
       "      <td>41.635361</td>\n",
       "      <td>64059600</td>\n",
       "    </tr>\n",
       "    <tr>\n",
       "      <th>3</th>\n",
       "      <td>2000-01-06</td>\n",
       "      <td>56.093750</td>\n",
       "      <td>56.937500</td>\n",
       "      <td>54.187500</td>\n",
       "      <td>55.000000</td>\n",
       "      <td>40.240646</td>\n",
       "      <td>54976600</td>\n",
       "    </tr>\n",
       "    <tr>\n",
       "      <th>4</th>\n",
       "      <td>2000-01-07</td>\n",
       "      <td>54.312500</td>\n",
       "      <td>56.125000</td>\n",
       "      <td>53.656250</td>\n",
       "      <td>55.718750</td>\n",
       "      <td>40.766510</td>\n",
       "      <td>62013600</td>\n",
       "    </tr>\n",
       "    <tr>\n",
       "      <th>...</th>\n",
       "      <td>...</td>\n",
       "      <td>...</td>\n",
       "      <td>...</td>\n",
       "      <td>...</td>\n",
       "      <td>...</td>\n",
       "      <td>...</td>\n",
       "      <td>...</td>\n",
       "    </tr>\n",
       "    <tr>\n",
       "      <th>4629</th>\n",
       "      <td>2018-05-29</td>\n",
       "      <td>97.839996</td>\n",
       "      <td>98.879997</td>\n",
       "      <td>97.230003</td>\n",
       "      <td>98.010002</td>\n",
       "      <td>98.010002</td>\n",
       "      <td>28671000</td>\n",
       "    </tr>\n",
       "    <tr>\n",
       "      <th>4630</th>\n",
       "      <td>2018-05-30</td>\n",
       "      <td>98.309998</td>\n",
       "      <td>99.250000</td>\n",
       "      <td>97.910004</td>\n",
       "      <td>98.949997</td>\n",
       "      <td>98.949997</td>\n",
       "      <td>21829700</td>\n",
       "    </tr>\n",
       "    <tr>\n",
       "      <th>4631</th>\n",
       "      <td>2018-05-31</td>\n",
       "      <td>99.290001</td>\n",
       "      <td>99.989998</td>\n",
       "      <td>98.610001</td>\n",
       "      <td>98.839996</td>\n",
       "      <td>98.839996</td>\n",
       "      <td>34140900</td>\n",
       "    </tr>\n",
       "    <tr>\n",
       "      <th>4632</th>\n",
       "      <td>2018-06-01</td>\n",
       "      <td>99.279999</td>\n",
       "      <td>100.860001</td>\n",
       "      <td>99.169998</td>\n",
       "      <td>100.790001</td>\n",
       "      <td>100.790001</td>\n",
       "      <td>28655600</td>\n",
       "    </tr>\n",
       "    <tr>\n",
       "      <th>4633</th>\n",
       "      <td>2018-06-04</td>\n",
       "      <td>101.260002</td>\n",
       "      <td>101.860001</td>\n",
       "      <td>100.849998</td>\n",
       "      <td>101.669998</td>\n",
       "      <td>101.669998</td>\n",
       "      <td>27166800</td>\n",
       "    </tr>\n",
       "  </tbody>\n",
       "</table>\n",
       "<p>4634 rows × 7 columns</p>\n",
       "</div>"
      ],
      "text/plain": [
       "            Date        Open        High  ...       Close   Adj Close    Volume\n",
       "0     2000-01-03   58.687500   59.312500  ...   58.281250   42.641369  53228400\n",
       "1     2000-01-04   56.781250   58.562500  ...   56.312500   41.200928  54119000\n",
       "2     2000-01-05   55.562500   58.187500  ...   56.906250   41.635361  64059600\n",
       "3     2000-01-06   56.093750   56.937500  ...   55.000000   40.240646  54976600\n",
       "4     2000-01-07   54.312500   56.125000  ...   55.718750   40.766510  62013600\n",
       "...          ...         ...         ...  ...         ...         ...       ...\n",
       "4629  2018-05-29   97.839996   98.879997  ...   98.010002   98.010002  28671000\n",
       "4630  2018-05-30   98.309998   99.250000  ...   98.949997   98.949997  21829700\n",
       "4631  2018-05-31   99.290001   99.989998  ...   98.839996   98.839996  34140900\n",
       "4632  2018-06-01   99.279999  100.860001  ...  100.790001  100.790001  28655600\n",
       "4633  2018-06-04  101.260002  101.860001  ...  101.669998  101.669998  27166800\n",
       "\n",
       "[4634 rows x 7 columns]"
      ]
     },
     "execution_count": 16,
     "metadata": {},
     "output_type": "execute_result"
    }
   ],
   "source": [
    "df"
   ]
  },
  {
   "cell_type": "code",
   "execution_count": 17,
   "metadata": {},
   "outputs": [],
   "source": [
    "Date= df['Date']\n",
    "Open= df['Open']\n",
    "High= df['High']\n",
    "Low=df['Low']\n",
    "Close= df['Close']\n",
    "Adj_Close=df['Adj Close']\n",
    "Volume= df['Volume']"
   ]
  },
  {
   "cell_type": "markdown",
   "metadata": {},
   "source": [
    "# Problem 1"
   ]
  },
  {
   "cell_type": "code",
   "execution_count": 18,
   "metadata": {},
   "outputs": [],
   "source": [
    "# metadata = {\"About\": \"stock data\", \"Company\": \"Microsoft\"}\n",
    "# md_file = \"MSFT_metadata.md\"\n",
    "# with open(md_file, 'w') as f:\n",
    "#     f.write(\"foobar\")\n",
    "# import json\n",
    "# with open(md_file, 'w') as f:\n",
    "#     json.dump(metadata, f) "
   ]
  },
  {
   "cell_type": "markdown",
   "metadata": {},
   "source": [
    "See the MSFT_metadata.md file"
   ]
  },
  {
   "cell_type": "markdown",
   "metadata": {},
   "source": [
    "# Problem 2"
   ]
  },
  {
   "cell_type": "markdown",
   "metadata": {},
   "source": [
    "I would re-organize the columns: Date, High, Low, Open, Close, Adj_Close, Volume\n",
    "\n",
    "I would also slit up the file into multiple tables by 5 year periods, right now the file contains 18 and a half years worth of data and it might be easier to split it up into smaller chunks and look at a particular set of years\n"
   ]
  },
  {
   "cell_type": "markdown",
   "metadata": {},
   "source": [
    "# Problem 3"
   ]
  },
  {
   "cell_type": "code",
   "execution_count": 19,
   "metadata": {},
   "outputs": [],
   "source": [
    "conn = sqlite3.connect('MSFT.sqlite')\n",
    "cur = conn.cursor()\n",
    "\n",
    "cur.execute ('DROP TABLE IF EXISTS Microsoft_Stocks2000_04')\n",
    "cur.execute ('CREATE TABLE Microsoft_Stocks2000_04 (Date TEXT, High INTEGER, Low INTEGER, Open INTEGER, Close INTEGER, Adj_Close INTEGER, Volume INTEGER)')\n",
    "\n",
    "cur.execute ('DROP TABLE IF EXISTS Microsoft_Stocks2005_09')\n",
    "cur.execute ('CREATE TABLE Microsoft_Stocks2005_09 (Date TEXT, High INTEGER, Low INTEGER, Open INTEGER, Close INTEGER, Adj_Close INTEGER, Volume INTEGER)')\n",
    "\n",
    "cur.execute ('DROP TABLE IF EXISTS Microsoft_Stocks2010_14')\n",
    "cur.execute ('CREATE TABLE Microsoft_Stocks2010_14 (Date TEXT, High INTEGER, Low INTEGER, Open INTEGER, Close INTEGER, Adj_Close INTEGER, Volume INTEGER)')\n",
    "\n",
    "cur.execute ('DROP TABLE IF EXISTS Microsoft_Stocks2015_18')\n",
    "cur.execute ('CREATE TABLE Microsoft_Stocks2015_18 (Date TEXT, High INTEGER, Low INTEGER, Open INTEGER, Close INTEGER, Adj_Close INTEGER, Volume INTEGER)')\n",
    "\n",
    "conn.close()"
   ]
  },
  {
   "cell_type": "code",
   "execution_count": null,
   "metadata": {},
   "outputs": [],
   "source": []
  },
  {
   "cell_type": "markdown",
   "metadata": {},
   "source": [
    "# Problem 4"
   ]
  },
  {
   "cell_type": "code",
   "execution_count": 20,
   "metadata": {},
   "outputs": [],
   "source": [
    "conn = sqlite3.connect('MSFT.sqlite')\n",
    "cur = conn.cursor()\n",
    "\n",
    "for i in range(1256):\n",
    "    cur.execute('INSERT INTO Microsoft_Stocks2000_04 (Date, High, Low, Open, Close, Adj_Close, Volume) VALUES (?, ?, ?, ?, ?, ?, ?)',\n",
    "           (Date[i], High[i], Low[i], Open[i], Close[i], Adj_Close[i], Volume[i]))\n",
    "for i in range(1256, 2515):\n",
    "    cur.execute('INSERT INTO Microsoft_Stocks2005_09 (Date, High, Low, Open, Close, Adj_Close, Volume) VALUES (?, ?, ?, ?, ?, ?, ?)',\n",
    "           (Date[i], High[i], Low[i], Open[i], Close[i], Adj_Close[i], Volume[i]))\n",
    "\n",
    "for i in range(2515, 3733):\n",
    "    cur.execute('INSERT INTO Microsoft_Stocks2010_14 (Date, High, Low, Open, Close, Adj_Close, Volume) VALUES (?, ?, ?, ?, ?, ?, ?)',\n",
    "           (Date[i], High[i], Low[i], Open[i], Close[i], Adj_Close[i], Volume[i]))\n",
    "    \n",
    "for i in range(3773, 4634):\n",
    "    cur.execute('INSERT INTO Microsoft_Stocks2015_18 (Date, High, Low, Open, Close, Adj_Close, Volume) VALUES (?, ?, ?, ?, ?, ?, ?)',\n",
    "           (Date[i], High[i], Low[i], Open[i], Close[i], Adj_Close[i], Volume[i]))\n",
    "    \n",
    "conn.commit()\n",
    "\n",
    "cur.close()"
   ]
  },
  {
   "cell_type": "code",
   "execution_count": null,
   "metadata": {},
   "outputs": [],
   "source": []
  }
 ],
 "metadata": {
  "kernelspec": {
   "display_name": "Python 3.7 (full)",
   "language": "python",
   "name": "python3-3.7-ufrc"
  },
  "language_info": {
   "codemirror_mode": {
    "name": "ipython",
    "version": 3
   },
   "file_extension": ".py",
   "mimetype": "text/x-python",
   "name": "python",
   "nbconvert_exporter": "python",
   "pygments_lexer": "ipython3",
   "version": "3.7.6"
  }
 },
 "nbformat": 4,
 "nbformat_minor": 4
}
